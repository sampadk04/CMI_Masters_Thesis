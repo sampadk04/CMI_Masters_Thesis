{
 "cells": [
  {
   "cell_type": "markdown",
   "metadata": {},
   "source": [
    "# Tokenizing Maestro V2 (Chunked) MIDI Files"
   ]
  },
  {
   "cell_type": "code",
   "execution_count": 21,
   "metadata": {},
   "outputs": [],
   "source": [
    "import os\n",
    "from tqdm import tqdm\n",
    "from pathlib import Path\n",
    "from miditok import REMI, TokenizerConfig, TokSequence"
   ]
  },
  {
   "cell_type": "code",
   "execution_count": 22,
   "metadata": {},
   "outputs": [],
   "source": [
    "raw_data_dir = '/storage/hdd1/data/midi_dataset/raw_data/maestro-v2-chunked'\n",
    "\n",
    "tokenizer_dir  = os.path.join(raw_data_dir, 'tokenizer')\n",
    "os.makedirs(tokenizer_dir, exist_ok=True)"
   ]
  },
  {
   "cell_type": "code",
   "execution_count": 23,
   "metadata": {},
   "outputs": [
    {
     "name": "stdout",
     "output_type": "stream",
     "text": [
      "# MIDI FILES: 10567\n"
     ]
    }
   ],
   "source": [
    "# extract the midi file paths\n",
    "midi_paths = list(Path(raw_data_dir).glob('**/*.mid')) + list(Path(raw_data_dir).glob('**/*.midi'))\n",
    "\n",
    "print(\"# MIDI FILES:\", len(midi_paths))"
   ]
  },
  {
   "cell_type": "markdown",
   "metadata": {},
   "source": [
    "## Training the Tokenizer"
   ]
  },
  {
   "cell_type": "code",
   "execution_count": 25,
   "metadata": {},
   "outputs": [
    {
     "name": "stderr",
     "output_type": "stream",
     "text": [
      "/tmp/ipykernel_205508/3586908719.py:5: UserWarning: The special token PAD_None is present twice in your configuration. Skipping its duplicated occurrence.\n",
      "  config = TokenizerConfig()\n"
     ]
    }
   ],
   "source": [
    "# train a tokenizer with BPE\n",
    "vocab_size = 8000\n",
    "\n",
    "# use the default config\n",
    "config = TokenizerConfig()\n",
    "tokenizer = REMI(config)"
   ]
  },
  {
   "cell_type": "code",
   "execution_count": 26,
   "metadata": {},
   "outputs": [
    {
     "name": "stdout",
     "output_type": "stream",
     "text": [
      "\n",
      "\n",
      "\n",
      "CPU times: user 5min 33s, sys: 36.6 s, total: 6min 9s\n",
      "Wall time: 2min 17s\n"
     ]
    }
   ],
   "source": [
    "%%time\n",
    "# train the tokenizer\n",
    "tokenizer.train(\n",
    "    vocab_size=vocab_size,\n",
    "    model=\"BPE\",\n",
    "    files_paths=midi_paths,\n",
    ")"
   ]
  },
  {
   "cell_type": "code",
   "execution_count": 27,
   "metadata": {},
   "outputs": [],
   "source": [
    "tokenizer.save_params(os.path.join(tokenizer_dir, 'tokenizer.json'))"
   ]
  },
  {
   "cell_type": "code",
   "execution_count": 28,
   "metadata": {},
   "outputs": [
    {
     "name": "stderr",
     "output_type": "stream",
     "text": [
      "config.json not found in /storage/hdd1/data/midi_dataset/raw_data/maestro-v2-chunked/tokenizer\n"
     ]
    }
   ],
   "source": [
    "tokenizer = REMI.from_pretrained(tokenizer_dir)"
   ]
  },
  {
   "cell_type": "code",
   "execution_count": 29,
   "metadata": {},
   "outputs": [
    {
     "name": "stdout",
     "output_type": "stream",
     "text": [
      "0\n",
      "1\n",
      "2\n"
     ]
    }
   ],
   "source": [
    "# pad token id\n",
    "pad_token_id = tokenizer['PAD_None']\n",
    "print(pad_token_id)\n",
    "\n",
    "# start_token_id\n",
    "start_token_id = tokenizer['BOS_None']\n",
    "print(start_token_id)\n",
    "\n",
    "# end_token_id\n",
    "end_token_id = tokenizer['EOS_None']\n",
    "print(end_token_id)"
   ]
  },
  {
   "cell_type": "code",
   "execution_count": 30,
   "metadata": {},
   "outputs": [
    {
     "name": "stdout",
     "output_type": "stream",
     "text": [
      "['PAD_None', 'BOS_None', 'EOS_None', 'MASK_None']\n",
      "[0, 1, 2, 3]\n"
     ]
    }
   ],
   "source": [
    "print(tokenizer.special_tokens)\n",
    "print(tokenizer.special_tokens_ids)"
   ]
  },
  {
   "cell_type": "code",
   "execution_count": 31,
   "metadata": {},
   "outputs": [
    {
     "data": {
      "text/plain": [
       "8000"
      ]
     },
     "execution_count": 31,
     "metadata": {},
     "output_type": "execute_result"
    }
   ],
   "source": [
    "tokenizer.vocab_size"
   ]
  }
 ],
 "metadata": {
  "kernelspec": {
   "display_name": ".mamba_venv",
   "language": "python",
   "name": "python3"
  },
  "language_info": {
   "codemirror_mode": {
    "name": "ipython",
    "version": 3
   },
   "file_extension": ".py",
   "mimetype": "text/x-python",
   "name": "python",
   "nbconvert_exporter": "python",
   "pygments_lexer": "ipython3",
   "version": "3.11.5"
  }
 },
 "nbformat": 4,
 "nbformat_minor": 2
}
