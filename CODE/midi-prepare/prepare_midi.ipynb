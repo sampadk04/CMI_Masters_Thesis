{
 "cells": [
  {
   "cell_type": "markdown",
   "metadata": {},
   "source": [
    "# Prepare MIDI Files for Training"
   ]
  },
  {
   "cell_type": "code",
   "execution_count": 2,
   "metadata": {},
   "outputs": [],
   "source": [
    "import os\n",
    "import torch\n",
    "from tqdm import tqdm\n",
    "from miditok import REMI, TokenizerConfig, TokSequence\n",
    "from miditok.pytorch_data import split_files_for_training\n",
    "from pathlib import Path"
   ]
  },
  {
   "cell_type": "code",
   "execution_count": 2,
   "metadata": {},
   "outputs": [],
   "source": [
    "midi_dir = '/home/sampadk04/code/Tests/transformer/data/midi/test_data'\n",
    "\n",
    "midi_raw_dir = os.path.join(midi_dir, 'raw/maestro-v2.0.0/')\n",
    "\n",
    "save_dir = os.path.join(midi_dir, 'preprocessed_data')"
   ]
  },
  {
   "cell_type": "code",
   "execution_count": 3,
   "metadata": {},
   "outputs": [
    {
     "name": "stdout",
     "output_type": "stream",
     "text": [
      "# MIDI FILES: 1282\n"
     ]
    }
   ],
   "source": [
    "# extract the midi file paths\n",
    "midi_paths = list(Path(midi_raw_dir).glob('**/*.mid')) + list(Path(midi_raw_dir).glob('**/*.midi'))\n",
    "\n",
    "print(\"# MIDI FILES:\", len(midi_paths))"
   ]
  },
  {
   "cell_type": "markdown",
   "metadata": {},
   "source": [
    "## Training the Tokenizer"
   ]
  },
  {
   "cell_type": "code",
   "execution_count": 4,
   "metadata": {},
   "outputs": [],
   "source": [
    "# train a tokenizer with BPE\n",
    "vocab_size = 30000\n",
    "max_seq_len = 1024\n",
    "min_seq_len = 256\n",
    "batch_size = 64"
   ]
  },
  {
   "cell_type": "code",
   "execution_count": 5,
   "metadata": {},
   "outputs": [
    {
     "name": "stderr",
     "output_type": "stream",
     "text": [
      "/tmp/ipykernel_197881/3605895432.py:17: UserWarning: The special token PAD_None is present twice in your configuration. Skipping its duplicated occurrence.\n",
      "  config = TokenizerConfig(**TOKENIZER_PARAMS)\n"
     ]
    }
   ],
   "source": [
    "# Creating a multitrack tokenizer configuration, read the doc to explore other parameters\n",
    "\n",
    "# Our parameters\n",
    "TOKENIZER_PARAMS = {\n",
    "    \"pitch_range\": (21, 109),\n",
    "    \"beat_res\": {(0, 4): 8, (4, 12): 4},\n",
    "    \"num_velocities\": 32,\n",
    "    \"special_tokens\": [\"PAD\", \"BOS\", \"EOS\", \"MASK\"],\n",
    "    \"use_chords\": True,\n",
    "    \"use_rests\": False,\n",
    "    \"use_tempos\": True,\n",
    "    \"use_time_signatures\": False,\n",
    "    \"use_programs\": False,\n",
    "    \"num_tempos\": 32,  # number of tempo bins\n",
    "    \"tempo_range\": (40, 250),  # (min, max)\n",
    "}\n",
    "config = TokenizerConfig(**TOKENIZER_PARAMS)\n",
    "\n",
    "# Creating the tokenizer\n",
    "tokenizer = REMI(config)\n",
    "\n",
    "# Add custom START token\n",
    "tokenizer.add_to_vocab(\"START_None\", special_token=True)"
   ]
  },
  {
   "cell_type": "code",
   "execution_count": 6,
   "metadata": {},
   "outputs": [
    {
     "name": "stdout",
     "output_type": "stream",
     "text": [
      "\n",
      "\n",
      "\n",
      "CPU times: user 10min 45s, sys: 1min 37s, total: 12min 23s\n",
      "Wall time: 5min 11s\n"
     ]
    }
   ],
   "source": [
    "%%time\n",
    "# train the tokenizer\n",
    "tokenizer.train(\n",
    "    vocab_size=vocab_size,\n",
    "    model=\"BPE\",\n",
    "    files_paths=midi_paths,\n",
    ")\n",
    "\n",
    "tokenizer.save_params(os.path.join(save_dir, 'tokenizer', 'tokenizer.json'))"
   ]
  },
  {
   "cell_type": "markdown",
   "metadata": {},
   "source": [
    "### Converting MIDI File to Token IDs"
   ]
  },
  {
   "cell_type": "code",
   "execution_count": 10,
   "metadata": {},
   "outputs": [],
   "source": [
    "sample_midi_path = midi_paths[10]\n",
    "\n",
    "sample_tokseq = tokenizer.encode(sample_midi_path)[0]\n",
    "\n",
    "token_ids = sample_tokseq.ids"
   ]
  },
  {
   "cell_type": "code",
   "execution_count": 11,
   "metadata": {},
   "outputs": [
    {
     "name": "stdout",
     "output_type": "stream",
     "text": [
      "# of tokens: 3926\n",
      "[2173, 2392, 4864, 49, 5149, 22, 333, 2912, 312, 2096]\n"
     ]
    }
   ],
   "source": [
    "print(\"# of tokens:\", len(token_ids))\n",
    "print(token_ids[:10])"
   ]
  },
  {
   "cell_type": "code",
   "execution_count": 12,
   "metadata": {},
   "outputs": [],
   "source": [
    "tokenizer.decode_token_ids(sample_tokseq)\n",
    "tokseq_decoded = tokenizer.decode([sample_tokseq])"
   ]
  },
  {
   "cell_type": "code",
   "execution_count": 13,
   "metadata": {},
   "outputs": [
    {
     "data": {
      "text/plain": [
       "Score(ttype=Tick, tpq=8, begin=0, end=9161, tracks=1, notes=2279, time_sig=1, key_sig=0, markers=0, lyrics=0)"
      ]
     },
     "execution_count": 13,
     "metadata": {},
     "output_type": "execute_result"
    }
   ],
   "source": [
    "tokseq_decoded"
   ]
  },
  {
   "cell_type": "code",
   "execution_count": null,
   "metadata": {},
   "outputs": [],
   "source": [
    "# save the decoded file as midi file\n",
    "# tokseq_decoded.dump_midi(os.path.join(save_dir, 'test.mid'))"
   ]
  },
  {
   "cell_type": "markdown",
   "metadata": {},
   "source": [
    "### Converting Token IDs to MIDI File"
   ]
  },
  {
   "cell_type": "code",
   "execution_count": 15,
   "metadata": {},
   "outputs": [],
   "source": [
    "# processing just using the token_ids\n",
    "custom_tokseq = TokSequence(ids=token_ids)\n",
    "tokenizer.decode_token_ids(custom_tokseq)\n",
    "decoded_token_ids = custom_tokseq.ids\n",
    "custom_tokseq_decoded = tokenizer.decode([decoded_token_ids])"
   ]
  },
  {
   "cell_type": "code",
   "execution_count": 16,
   "metadata": {},
   "outputs": [
    {
     "data": {
      "text/plain": [
       "Score(ttype=Tick, tpq=8, begin=0, end=9161, tracks=1, notes=2279, time_sig=1, key_sig=0, markers=0, lyrics=0)"
      ]
     },
     "execution_count": 16,
     "metadata": {},
     "output_type": "execute_result"
    }
   ],
   "source": [
    "custom_tokseq_decoded"
   ]
  },
  {
   "cell_type": "markdown",
   "metadata": {},
   "source": [
    "# Splitting the Midi Files"
   ]
  },
  {
   "cell_type": "code",
   "execution_count": 7,
   "metadata": {},
   "outputs": [
    {
     "name": "stderr",
     "output_type": "stream",
     "text": [
      "Splitting music files (/storage/hdd1/data/midi_dataset/raw_data/maestro-v2-chunked): 100%|██████████| 1282/1282 [00:19<00:00, 65.33it/s]\n"
     ]
    }
   ],
   "source": [
    "midi_chunk_dir = Path('/storage/hdd1/data/midi_dataset/raw_data/maestro-v2-chunked')\n",
    "_ = split_files_for_training(\n",
    "    files_paths=midi_paths,\n",
    "    tokenizer=tokenizer,\n",
    "    save_dir=midi_chunk_dir,\n",
    "    max_seq_len=max_seq_len,\n",
    "    min_seq_len=min_seq_len\n",
    ")"
   ]
  },
  {
   "cell_type": "code",
   "execution_count": 8,
   "metadata": {},
   "outputs": [
    {
     "name": "stdout",
     "output_type": "stream",
     "text": [
      "# MIDI CHUNK FILES: 10567\n"
     ]
    }
   ],
   "source": [
    "midi_chunk_paths = list(midi_chunk_dir.glob('**/*.mid')) + list(midi_chunk_dir.glob('**/*.midi'))\n",
    "\n",
    "print(\"# MIDI CHUNK FILES:\", len(midi_chunk_paths))"
   ]
  },
  {
   "cell_type": "code",
   "execution_count": 9,
   "metadata": {},
   "outputs": [
    {
     "name": "stdout",
     "output_type": "stream",
     "text": [
      "Original MIDI file size: 9884\n",
      "Chunked MIDI file size: 924\n",
      "Original TOKENS: [1924, 1979, 4130, 2704, 3641, 1420, 49, 1184, 37, 2139]\n",
      "Chunked TOKENS: [1924, 24550, 7571, 201, 2420, 2925, 344, 29550, 28399, 22359]\n",
      "Original MIDI file size: 6544\n",
      "Chunked MIDI file size: 898\n",
      "Original TOKENS: [1924, 2080, 329, 2252, 255, 1992, 20497, 1583, 210, 1375]\n",
      "Chunked TOKENS: [1924, 1155, 10496, 399, 9450, 6894, 397, 11215, 10395, 4162]\n",
      "Original MIDI file size: 7722\n",
      "Chunked MIDI file size: 876\n",
      "Original TOKENS: [1924, 1733, 4029, 1613, 209, 1079, 211, 1056, 1606, 5534]\n",
      "Chunked TOKENS: [1924, 17718, 501, 192, 1601, 350, 7003, 10978, 434, 2686]\n",
      "Original MIDI file size: 34155\n",
      "Chunked MIDI file size: 994\n",
      "Original TOKENS: [1924, 3051, 721, 71, 685, 35, 538, 14875, 23, 451]\n",
      "Chunked TOKENS: [1924, 195, 1435, 386, 462, 363, 14153, 923, 574, 351]\n",
      "Original MIDI file size: 5420\n",
      "Chunked MIDI file size: 1050\n",
      "Original TOKENS: [1924, 205, 1378, 1192, 985, 21309, 863, 1799, 5436, 1059]\n",
      "Chunked TOKENS: [1924, 6949, 4242, 1390, 194, 1346, 195, 1185, 2281, 18607]\n",
      "Original MIDI file size: 3534\n",
      "Chunked MIDI file size: 984\n",
      "Original TOKENS: [1924, 2899, 5719, 23, 5040, 9804, 29649, 214, 1103, 22416]\n",
      "Chunked TOKENS: [1924, 191, 1911, 193, 1297, 3712, 294, 4781, 3215, 449]\n",
      "Original MIDI file size: 17399\n",
      "Chunked MIDI file size: 610\n",
      "Original TOKENS: [1924, 5049, 3309, 3075, 1467, 5025, 568, 4597, 1642, 4291]\n",
      "Chunked TOKENS: [1924, 4484, 305, 3213, 328, 5730, 4252, 3315, 335, 3887]\n",
      "Original MIDI file size: 24276\n",
      "Chunked MIDI file size: 1032\n",
      "Original TOKENS: [1924, 2010, 2596, 1861, 973, 19137, 46, 1184, 3457, 21526]\n",
      "Chunked TOKENS: [1924, 430, 191, 925, 1254, 2248, 12080, 430, 601, 649]\n",
      "Original MIDI file size: 3709\n",
      "Chunked MIDI file size: 823\n",
      "Original TOKENS: [1924, 1720, 3708, 34, 104, 185, 1962, 1229, 1940, 381]\n",
      "Chunked TOKENS: [5702, 470, 8301, 10119, 9033, 10468, 18850, 6577, 13108, 18951]\n",
      "Original MIDI file size: 10376\n",
      "Chunked MIDI file size: 926\n",
      "Original TOKENS: [5702, 12, 269, 25, 534, 209, 3400, 210, 5292, 212]\n",
      "Chunked TOKENS: [1924, 856, 192, 1525, 2677, 296, 856, 3511, 1394, 2532]\n"
     ]
    }
   ],
   "source": [
    "# comparing sizes of original midi files and chunked midi files\n",
    "\n",
    "for i in range(10):\n",
    "    midi_path_1 = midi_paths[i]\n",
    "    midi_path_2 = midi_chunk_paths[i]\n",
    "\n",
    "    tokseq_1 = tokenizer.encode(midi_path_1)[0]\n",
    "    tokseq_2 = tokenizer.encode(midi_path_2)[0]\n",
    "\n",
    "    token_ids_1 = tokseq_1.ids\n",
    "    token_ids_2 = tokseq_2.ids\n",
    "\n",
    "    print(\"Original MIDI file size:\", len(token_ids_1))\n",
    "    print(\"Chunked MIDI file size:\", len(token_ids_2))\n",
    "\n",
    "    print(\"Original TOKENS:\", token_ids_1[:10])\n",
    "    print(\"Chunked TOKENS:\", token_ids_2[:10])"
   ]
  },
  {
   "cell_type": "code",
   "execution_count": 10,
   "metadata": {},
   "outputs": [
    {
     "name": "stdout",
     "output_type": "stream",
     "text": [
      "0\n",
      "328\n"
     ]
    }
   ],
   "source": [
    "# pad token id\n",
    "pad_token_id = tokenizer.pad_token_id\n",
    "print(pad_token_id)\n",
    "\n",
    "# start_token_id\n",
    "start_token_id = tokenizer[\"START_None\"]\n",
    "print(start_token_id)"
   ]
  },
  {
   "cell_type": "code",
   "execution_count": 11,
   "metadata": {},
   "outputs": [
    {
     "name": "stdout",
     "output_type": "stream",
     "text": [
      "['PAD_None', 'BOS_None', 'EOS_None', 'MASK_None', 'START_None']\n",
      "[0, 1, 2, 3, 328]\n"
     ]
    }
   ],
   "source": [
    "print(tokenizer.special_tokens)\n",
    "print(tokenizer.special_tokens_ids)"
   ]
  },
  {
   "cell_type": "markdown",
   "metadata": {},
   "source": [
    "## Experiment"
   ]
  },
  {
   "cell_type": "code",
   "execution_count": 26,
   "metadata": {},
   "outputs": [
    {
     "name": "stdout",
     "output_type": "stream",
     "text": [
      "# of tokens: 1265\n",
      "[396, 2216, 295, 4957, 7247, 1502, 305, 4283, 1718, 291]\n"
     ]
    }
   ],
   "source": [
    "# sample midi chunk for experimenting\n",
    "\n",
    "sample_midi_chunk_path = midi_chunk_paths[10]\n",
    "\n",
    "chunk_tokseq = tokenizer.encode(sample_midi_chunk_path)[0]\n",
    "\n",
    "chunk_token_ids = chunk_tokseq.ids\n",
    "\n",
    "print(\"# of tokens:\", len(chunk_token_ids))\n",
    "# print last 10 tokens\n",
    "print(chunk_token_ids[-10:])"
   ]
  },
  {
   "cell_type": "code",
   "execution_count": 27,
   "metadata": {},
   "outputs": [],
   "source": [
    "# decode and save the midi chunk\n",
    "tokenizer.decode_token_ids(chunk_tokseq)\n",
    "chunk_tokseq_decoded = tokenizer.decode([chunk_tokseq])\n",
    "\n",
    "# save the decoded file as midi file\n",
    "chunk_tokseq_decoded.dump_midi(os.path.join(save_dir, 'test_chunk_org.mid'))"
   ]
  },
  {
   "cell_type": "code",
   "execution_count": 28,
   "metadata": {},
   "outputs": [
    {
     "name": "stdout",
     "output_type": "stream",
     "text": [
      "# of tokens: 1365\n",
      "[0, 0, 0, 0, 0, 0, 0, 0, 0, 0]\n"
     ]
    }
   ],
   "source": [
    "# manipulate the token_ids by padding at the end with pad_token_id\n",
    "\n",
    "n_pad_tokens = 100\n",
    "new_token_ids = chunk_token_ids + [pad_token_id] * n_pad_tokens\n",
    "\n",
    "print(\"# of tokens:\", len(new_token_ids))\n",
    "# print last 10 tokens\n",
    "print(new_token_ids[-10:])"
   ]
  },
  {
   "cell_type": "code",
   "execution_count": 29,
   "metadata": {},
   "outputs": [],
   "source": [
    "# decode and save the midi chunk\n",
    "new_pad_tokseq = TokSequence(ids=new_token_ids)\n",
    "tokenizer.decode_token_ids(new_pad_tokseq)\n",
    "new_pad_decoded_ids = new_pad_tokseq.ids\n",
    "new_pad_tokseq_decoded = tokenizer.decode([new_pad_decoded_ids])\n",
    "\n",
    "# save the decoded file as midi file\n",
    "new_pad_tokseq_decoded.dump_midi(os.path.join(save_dir, 'test_chunk_pad.mid'))"
   ]
  },
  {
   "cell_type": "markdown",
   "metadata": {},
   "source": [
    "## Load and use saved Tokenizer"
   ]
  },
  {
   "cell_type": "code",
   "execution_count": 5,
   "metadata": {},
   "outputs": [
    {
     "name": "stderr",
     "output_type": "stream",
     "text": [
      "config.json not found in /home/sampadk04/code/Tests/transformer/data/midi/test_data/preprocessed_data/tokenizer\n",
      "/storage/hdd1/data/pyenvs/.mamba_venv/lib/python3.11/site-packages/miditok/midi_tokenizer.py:3252: UserWarning: The special token PAD_None is present twice in your configuration. Skipping its duplicated occurrence.\n",
      "  self.config = TokenizerConfig()\n",
      "/storage/hdd1/data/pyenvs/.mamba_venv/lib/python3.11/site-packages/miditok/classes.py:702: UserWarning: The special token PAD_None is present twice in your configuration. Skipping its duplicated occurrence.\n",
      "  return cls(**input_dict, **kwargs)\n"
     ]
    }
   ],
   "source": [
    "tokenizer_dir = os.path.join(save_dir, 'tokenizer')\n",
    "\n",
    "tokenizer_loaded = REMI.from_pretrained(tokenizer_dir)"
   ]
  },
  {
   "cell_type": "code",
   "execution_count": 7,
   "metadata": {},
   "outputs": [
    {
     "name": "stdout",
     "output_type": "stream",
     "text": [
      "# MIDI FILES: 1282\n",
      "# MIDI CHUNK FILES: 10567\n"
     ]
    }
   ],
   "source": [
    "# extract the midi file paths\n",
    "midi_paths = list(Path(midi_raw_dir).glob('**/*.mid')) + list(Path(midi_raw_dir).glob('**/*.midi'))\n",
    "\n",
    "print(\"# MIDI FILES:\", len(midi_paths))\n",
    "\n",
    "midi_chunk_dir = Path('/storage/hdd1/data/midi_dataset/raw_data/maestro-v2-chunked')\n",
    "midi_chunk_paths = list(midi_chunk_dir.glob('**/*.mid')) + list(midi_chunk_dir.glob('**/*.midi'))\n",
    "\n",
    "print(\"# MIDI CHUNK FILES:\", len(midi_chunk_paths))"
   ]
  },
  {
   "cell_type": "code",
   "execution_count": 8,
   "metadata": {},
   "outputs": [
    {
     "name": "stdout",
     "output_type": "stream",
     "text": [
      "Original MIDI file size: 9884\n",
      "Chunked MIDI file size: 924\n",
      "Original TOKENS: [1924, 1979, 4130, 2704, 3641, 1420, 49, 1184, 37, 2139]\n",
      "Chunked TOKENS: [1924, 24550, 7571, 201, 2420, 2925, 344, 29550, 28399, 22359]\n",
      "Original MIDI file size: 6544\n",
      "Chunked MIDI file size: 898\n",
      "Original TOKENS: [1924, 2080, 329, 2252, 255, 1992, 20497, 1583, 210, 1375]\n",
      "Chunked TOKENS: [1924, 1155, 10496, 399, 9450, 6894, 397, 11215, 10395, 4162]\n",
      "Original MIDI file size: 7722\n",
      "Chunked MIDI file size: 876\n",
      "Original TOKENS: [1924, 1733, 4029, 1613, 209, 1079, 211, 1056, 1606, 5534]\n",
      "Chunked TOKENS: [1924, 17718, 501, 192, 1601, 350, 7003, 10978, 434, 2686]\n",
      "Original MIDI file size: 34155\n",
      "Chunked MIDI file size: 994\n",
      "Original TOKENS: [1924, 3051, 721, 71, 685, 35, 538, 14875, 23, 451]\n",
      "Chunked TOKENS: [1924, 195, 1435, 386, 462, 363, 14153, 923, 574, 351]\n",
      "Original MIDI file size: 5420\n",
      "Chunked MIDI file size: 1050\n",
      "Original TOKENS: [1924, 205, 1378, 1192, 985, 21309, 863, 1799, 5436, 1059]\n",
      "Chunked TOKENS: [1924, 6949, 4242, 1390, 194, 1346, 195, 1185, 2281, 18607]\n",
      "Original MIDI file size: 3534\n",
      "Chunked MIDI file size: 984\n",
      "Original TOKENS: [1924, 2899, 5719, 23, 5040, 9804, 29649, 214, 1103, 22416]\n",
      "Chunked TOKENS: [1924, 191, 1911, 193, 1297, 3712, 294, 4781, 3215, 449]\n",
      "Original MIDI file size: 17399\n",
      "Chunked MIDI file size: 610\n",
      "Original TOKENS: [1924, 5049, 3309, 3075, 1467, 5025, 568, 4597, 1642, 4291]\n",
      "Chunked TOKENS: [1924, 4484, 305, 3213, 328, 5730, 4252, 3315, 335, 3887]\n",
      "Original MIDI file size: 24276\n",
      "Chunked MIDI file size: 1032\n",
      "Original TOKENS: [1924, 2010, 2596, 1861, 973, 19137, 46, 1184, 3457, 21526]\n",
      "Chunked TOKENS: [1924, 430, 191, 925, 1254, 2248, 12080, 430, 601, 649]\n",
      "Original MIDI file size: 3709\n",
      "Chunked MIDI file size: 823\n",
      "Original TOKENS: [1924, 1720, 3708, 34, 104, 185, 1962, 1229, 1940, 381]\n",
      "Chunked TOKENS: [5702, 470, 8301, 10119, 9033, 10468, 18850, 6577, 13108, 18951]\n",
      "Original MIDI file size: 10376\n",
      "Chunked MIDI file size: 926\n",
      "Original TOKENS: [5702, 12, 269, 25, 534, 209, 3400, 210, 5292, 212]\n",
      "Chunked TOKENS: [1924, 856, 192, 1525, 2677, 296, 856, 3511, 1394, 2532]\n"
     ]
    }
   ],
   "source": [
    "# comparing sizes of original midi files and chunked midi files\n",
    "\n",
    "for i in range(10):\n",
    "    midi_path_1 = midi_paths[i]\n",
    "    midi_path_2 = midi_chunk_paths[i]\n",
    "\n",
    "    tokseq_1 = tokenizer_loaded.encode(midi_path_1)[0]\n",
    "    tokseq_2 = tokenizer_loaded.encode(midi_path_2)[0]\n",
    "\n",
    "    token_ids_1 = tokseq_1.ids\n",
    "    token_ids_2 = tokseq_2.ids\n",
    "\n",
    "    print(\"Original MIDI file size:\", len(token_ids_1))\n",
    "    print(\"Chunked MIDI file size:\", len(token_ids_2))\n",
    "\n",
    "    print(\"Original TOKENS:\", token_ids_1[:10])\n",
    "    print(\"Chunked TOKENS:\", token_ids_2[:10])"
   ]
  },
  {
   "cell_type": "code",
   "execution_count": 9,
   "metadata": {},
   "outputs": [
    {
     "name": "stdout",
     "output_type": "stream",
     "text": [
      "['PAD_None', 'BOS_None', 'EOS_None', 'MASK_None', 'START_None']\n",
      "[0, 1, 2, 3, 328]\n"
     ]
    }
   ],
   "source": [
    "print(tokenizer_loaded.special_tokens)\n",
    "print(tokenizer_loaded.special_tokens_ids)"
   ]
  },
  {
   "cell_type": "markdown",
   "metadata": {},
   "source": [
    "# TEST"
   ]
  },
  {
   "cell_type": "code",
   "execution_count": 3,
   "metadata": {},
   "outputs": [
    {
     "name": "stderr",
     "output_type": "stream",
     "text": [
      "config.json not found in /storage/hdd1/data/midi_dataset/raw_data/maestro-v2-chunked/tokenizer_8k\n",
      "/storage/hdd1/data/pyenvs/.mamba_venv/lib/python3.11/site-packages/miditok/midi_tokenizer.py:3252: UserWarning: The special token PAD_None is present twice in your configuration. Skipping its duplicated occurrence.\n",
      "  self.config = TokenizerConfig()\n",
      "/storage/hdd1/data/pyenvs/.mamba_venv/lib/python3.11/site-packages/miditok/classes.py:702: UserWarning: The special token PAD_None is present twice in your configuration. Skipping its duplicated occurrence.\n",
      "  return cls(**input_dict, **kwargs)\n"
     ]
    },
    {
     "name": "stdout",
     "output_type": "stream",
     "text": [
      "Found 10567 MIDI files in /storage/hdd1/data/midi_dataset/raw_data/maestro-v2-chunked\n"
     ]
    },
    {
     "name": "stderr",
     "output_type": "stream",
     "text": [
      "100%|██████████| 10567/10567 [01:47<00:00, 98.00it/s] \n"
     ]
    }
   ],
   "source": [
    "import random\n",
    "import numpy as np\n",
    "\n",
    "ext_data_dir = '/storage/hdd1/data/midi_dataset/raw_data/maestro-v2-chunked'\n",
    "block_size = 256\n",
    "\n",
    "midi_tokenizer_dir = os.path.join(ext_data_dir, 'tokenizer_8k')\n",
    "\n",
    "# load the tokenizer\n",
    "tokenizer = REMI.from_pretrained(midi_tokenizer_dir)\n",
    "\n",
    "# set the special token ids\n",
    "pad_token_id = tokenizer['PAD_None']\n",
    "start_token_id = tokenizer['BOS_None']\n",
    "\n",
    "# extract midi file paths\n",
    "midi_files = list(Path(ext_data_dir).rglob('*.midi')) + list(Path(ext_data_dir).rglob('*.mid'))\n",
    "print(f\"Found {len(midi_files)} MIDI files in {ext_data_dir}\")\n",
    "\n",
    "# set seed for train/val\n",
    "train_val_split_seed = 1234\n",
    "\n",
    "# initialize list to store the midi token_ids\n",
    "midi_token_ids = []\n",
    "for midi_file in tqdm(midi_files):\n",
    "    try:\n",
    "        midi_tokseq = tokenizer.encode(midi_file)[0]\n",
    "        # extract the token ids and add the start_token_id to the beginning\n",
    "        token_ids = [start_token_id] + midi_tokseq.ids\n",
    "\n",
    "        # check if this is greater than the block_size, if not append pad_token_id to the end\n",
    "        if len(token_ids) < block_size:\n",
    "            token_ids += [pad_token_id for _ in range(block_size - len(token_ids))]\n",
    "\n",
    "        midi_token_ids.append(token_ids)\n",
    "    except Exception as e:\n",
    "        print(f\"Error processing {midi_file}: {e}\")"
   ]
  },
  {
   "cell_type": "code",
   "execution_count": 4,
   "metadata": {},
   "outputs": [
    {
     "name": "stdout",
     "output_type": "stream",
     "text": [
      "Length of train data: 9510\n",
      "Length of val data: 1057\n"
     ]
    }
   ],
   "source": [
    "split_idx = int(0.9 * len(midi_token_ids))\n",
    "train_data = midi_token_ids[:split_idx]\n",
    "val_data = midi_token_ids[split_idx:]\n",
    "\n",
    "print(\"Length of train data:\", len(train_data))\n",
    "print(\"Length of val data:\", len(val_data))"
   ]
  },
  {
   "cell_type": "code",
   "execution_count": 8,
   "metadata": {},
   "outputs": [
    {
     "name": "stdout",
     "output_type": "stream",
     "text": [
      "[1, 874, 715, 7417, 200, 2385, 2931, 334, 203, 1133]\n",
      "[1, 234, 1141, 191, 419, 382, 193, 385, 6732, 381]\n",
      "[1, 244, 408, 482, 191, 1597, 335, 6797, 193, 452]\n",
      "[1, 324, 1407, 371, 448, 349, 195, 529, 898, 553]\n",
      "[1, 4194, 4222, 1375, 193, 1327, 194, 1166, 2289, 250]\n",
      "[1, 4, 2253, 309, 47, 816, 32, 776, 2483, 816]\n",
      "[1, 234, 631, 604, 59, 480, 190, 1156, 4890, 192]\n",
      "[1, 234, 987, 3311, 4220, 2910, 2526, 913, 45, 480]\n",
      "[1, 3413, 708, 3635, 617, 192, 2084, 820, 193, 2993]\n",
      "[1, 5826, 587, 4007, 5361, 3802, 480, 38, 315, 1899]\n"
     ]
    }
   ],
   "source": [
    "for i in range(5):\n",
    "    print(train_data[i][:10])\n",
    "\n",
    "for i in range(5):\n",
    "    print(val_data[i][:10])"
   ]
  },
  {
   "cell_type": "code",
   "execution_count": 9,
   "metadata": {},
   "outputs": [],
   "source": [
    "import pickle\n",
    "\n",
    "# preprocesses data\n",
    "preprocessed_data_dir = os.path.join(ext_data_dir, 'preprocessed_data')\n",
    "os.makedirs(preprocessed_data_dir, exist_ok=True)\n",
    "\n",
    "# save the train and val data\n",
    "train_data_path = os.path.join(preprocessed_data_dir, 'train.pkl')\n",
    "val_data_path = os.path.join(preprocessed_data_dir, 'val.pkl')\n",
    "\n",
    "with open(train_data_path, 'wb') as f:\n",
    "    pickle.dump(train_data, f)\n",
    "\n",
    "with open(val_data_path, 'wb') as f:\n",
    "    pickle.dump(val_data, f)"
   ]
  },
  {
   "cell_type": "code",
   "execution_count": 10,
   "metadata": {},
   "outputs": [
    {
     "name": "stdout",
     "output_type": "stream",
     "text": [
      "Length of loaded train data: 9510\n",
      "Length of loaded val data: 1057\n"
     ]
    }
   ],
   "source": [
    "# load the train and val data\n",
    "with open(train_data_path, 'rb') as f:\n",
    "    loaded_train_data = pickle.load(f)\n",
    "\n",
    "with open(val_data_path, 'rb') as f:\n",
    "    loaded_val_data = pickle.load(f)\n",
    "\n",
    "print(\"Length of loaded train data:\", len(loaded_train_data))\n",
    "print(\"Length of loaded val data:\", len(loaded_val_data))"
   ]
  },
  {
   "cell_type": "code",
   "execution_count": 12,
   "metadata": {},
   "outputs": [
    {
     "name": "stdout",
     "output_type": "stream",
     "text": [
      "[1, 874, 715, 7417, 200, 2385, 2931, 334, 203, 1133]\n",
      "[1, 234, 1141, 191, 419, 382, 193, 385, 6732, 381]\n",
      "[1, 244, 408, 482, 191, 1597, 335, 6797, 193, 452]\n",
      "[1, 324, 1407, 371, 448, 349, 195, 529, 898, 553]\n",
      "[1, 4194, 4222, 1375, 193, 1327, 194, 1166, 2289, 250]\n",
      "[1, 4, 2253, 309, 47, 816, 32, 776, 2483, 816]\n",
      "[1, 234, 631, 604, 59, 480, 190, 1156, 4890, 192]\n",
      "[1, 234, 987, 3311, 4220, 2910, 2526, 913, 45, 480]\n",
      "[1, 3413, 708, 3635, 617, 192, 2084, 820, 193, 2993]\n",
      "[1, 5826, 587, 4007, 5361, 3802, 480, 38, 315, 1899]\n"
     ]
    }
   ],
   "source": [
    "for i in range(5):\n",
    "    print(loaded_train_data[i][:10])\n",
    "\n",
    "for i in range(5):\n",
    "    print(loaded_val_data[i][:10])"
   ]
  },
  {
   "cell_type": "code",
   "execution_count": 6,
   "metadata": {},
   "outputs": [
    {
     "data": {
      "image/png": "[encoded data removed]",
      "text/plain": [
       "<Figure size 640x480 with 1 Axes>"
      ]
     },
     "metadata": {},
     "output_type": "display_data"
    }
   ],
   "source": [
    "# plot distribution of lengths of the token_ids\n",
    "data_lengths = [len(data) for data in midi_token_ids]\n",
    "\n",
    "# plot the distribution of lengths\n",
    "import matplotlib.pyplot as plt\n",
    "plt.hist(data_lengths, bins=20)\n",
    "plt.xlabel(\"Length of token_ids\")\n",
    "plt.ylabel(\"Frequency\")\n",
    "plt.title(\"Distribution of lengths of token_ids\")\n",
    "plt.show()"
   ]
  },
  {
   "cell_type": "code",
   "execution_count": 7,
   "metadata": {},
   "outputs": [
    {
     "name": "stdout",
     "output_type": "stream",
     "text": [
      "Summary statistics of lengths of token_ids\n",
      "Min: 272\n",
      "Max: 1703\n",
      "Mean: 1157.0417336992523\n",
      "Median: 1186.0\n",
      "Std: 179.7592763267505\n"
     ]
    }
   ],
   "source": [
    "# get the summary statistics of the lengths\n",
    "data_lengths = np.array(data_lengths)\n",
    "print(\"Summary statistics of lengths of token_ids\")\n",
    "print(\"Min:\", np.min(data_lengths))\n",
    "print(\"Max:\", np.max(data_lengths))\n",
    "print(\"Mean:\", np.mean(data_lengths))\n",
    "print(\"Median:\", np.median(data_lengths))\n",
    "print(\"Std:\", np.std(data_lengths))"
   ]
  }
 ],
 "metadata": {
  "kernelspec": {
   "display_name": ".mamba_venv",
   "language": "python",
   "name": "python3"
  },
  "language_info": {
   "codemirror_mode": {
    "name": "ipython",
    "version": 3
   },
   "file_extension": ".py",
   "mimetype": "text/x-python",
   "name": "python",
   "nbconvert_exporter": "python",
   "pygments_lexer": "ipython3",
   "version": "3.11.5"
  }
 },
 "nbformat": 4,
 "nbformat_minor": 2
}
